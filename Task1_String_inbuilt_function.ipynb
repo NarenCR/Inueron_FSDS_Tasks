{
 "cells": [
  {
   "cell_type": "code",
   "execution_count": 1,
   "id": "21c606e8",
   "metadata": {},
   "outputs": [],
   "source": [
    "s = \"this is My First Python programming class and i am learNING python string and its function\""
   ]
  },
  {
   "cell_type": "code",
   "execution_count": 2,
   "id": "79e708d1",
   "metadata": {},
   "outputs": [
    {
     "data": {
      "text/plain": [
       "'h   r tnrrmglsnimeNGyosi dtfco'"
      ]
     },
     "execution_count": 2,
     "metadata": {},
     "output_type": "execute_result"
    }
   ],
   "source": [
    "#1.Try to extract data from index one to index 300 with a jump of 3\n",
    "s[1:301:3]"
   ]
  },
  {
   "cell_type": "code",
   "execution_count": 3,
   "id": "c929cb81",
   "metadata": {},
   "outputs": [
    {
     "data": {
      "text/plain": [
       "'noitcnuf sti dna gnirts nohtyp GNINrael ma i dna ssalc gnimmargorp nohtyP tsriF yM si siht'"
      ]
     },
     "execution_count": 3,
     "metadata": {},
     "output_type": "execute_result"
    }
   ],
   "source": [
    "#2.Try to reverse a string without using reverse function\n",
    "s[::-1]"
   ]
  },
  {
   "cell_type": "code",
   "execution_count": 5,
   "id": "d25e4581",
   "metadata": {},
   "outputs": [
    {
     "data": {
      "text/plain": [
       "['this',\n",
       " 'is',\n",
       " 'My',\n",
       " 'First',\n",
       " 'Python',\n",
       " 'programming',\n",
       " 'class',\n",
       " 'and',\n",
       " 'i',\n",
       " 'am',\n",
       " 'learNING',\n",
       " 'python',\n",
       " 'string',\n",
       " 'and',\n",
       " 'its',\n",
       " 'function']"
      ]
     },
     "execution_count": 5,
     "metadata": {},
     "output_type": "execute_result"
    }
   ],
   "source": [
    "#3.Try to split a string after conversion of entire string in uppercase\n",
    "s.upper()\n",
    "s.split(' ')"
   ]
  },
  {
   "cell_type": "code",
   "execution_count": 6,
   "id": "aa7e6bc5",
   "metadata": {},
   "outputs": [
    {
     "data": {
      "text/plain": [
       "'this is my first python programming class and i am learning python string and its function'"
      ]
     },
     "execution_count": 6,
     "metadata": {},
     "output_type": "execute_result"
    }
   ],
   "source": [
    "#4.try to convert the whole string into lower case\n",
    "s.lower()"
   ]
  },
  {
   "cell_type": "code",
   "execution_count": 7,
   "id": "66cacef4",
   "metadata": {},
   "outputs": [
    {
     "data": {
      "text/plain": [
       "'This is my first python programming class and i am learning python string and its function'"
      ]
     },
     "execution_count": 7,
     "metadata": {},
     "output_type": "execute_result"
    }
   ],
   "source": [
    "#5.Try to capitalize the whole string\n",
    "s.capitalize()"
   ]
  },
  {
   "cell_type": "code",
   "execution_count": 14,
   "id": "0ecc66ec",
   "metadata": {},
   "outputs": [
    {
     "data": {
      "text/plain": [
       "True"
      ]
     },
     "execution_count": 14,
     "metadata": {},
     "output_type": "execute_result"
    }
   ],
   "source": [
    "#6.Write a diference between isalnum() and isalpha()\n",
    "k=\"123asas\"\n",
    "t=\"1233\"\n",
    "r='dadsda'\n",
    "k.isalnum()"
   ]
  },
  {
   "cell_type": "code",
   "execution_count": 10,
   "id": "6fce0c51",
   "metadata": {},
   "outputs": [
    {
     "data": {
      "text/plain": [
       "False"
      ]
     },
     "execution_count": 10,
     "metadata": {},
     "output_type": "execute_result"
    }
   ],
   "source": [
    "k.isalpha()"
   ]
  },
  {
   "cell_type": "code",
   "execution_count": 11,
   "id": "46262418",
   "metadata": {},
   "outputs": [
    {
     "data": {
      "text/plain": [
       "True"
      ]
     },
     "execution_count": 11,
     "metadata": {},
     "output_type": "execute_result"
    }
   ],
   "source": [
    "t.isalnum()"
   ]
  },
  {
   "cell_type": "code",
   "execution_count": 12,
   "id": "0ae6602f",
   "metadata": {},
   "outputs": [
    {
     "data": {
      "text/plain": [
       "False"
      ]
     },
     "execution_count": 12,
     "metadata": {},
     "output_type": "execute_result"
    }
   ],
   "source": [
    "t.isalpha()"
   ]
  },
  {
   "cell_type": "code",
   "execution_count": 15,
   "id": "121d1234",
   "metadata": {},
   "outputs": [
    {
     "data": {
      "text/plain": [
       "True"
      ]
     },
     "execution_count": 15,
     "metadata": {},
     "output_type": "execute_result"
    }
   ],
   "source": [
    "r.isalpha()"
   ]
  },
  {
   "cell_type": "code",
   "execution_count": 16,
   "id": "57d054e0",
   "metadata": {},
   "outputs": [],
   "source": [
    "y=\"@asa1232\""
   ]
  },
  {
   "cell_type": "code",
   "execution_count": 17,
   "id": "a48139ea",
   "metadata": {},
   "outputs": [
    {
     "data": {
      "text/plain": [
       "False"
      ]
     },
     "execution_count": 17,
     "metadata": {},
     "output_type": "execute_result"
    }
   ],
   "source": [
    "y.isalnum()"
   ]
  },
  {
   "cell_type": "code",
   "execution_count": 18,
   "id": "edb5e8ac",
   "metadata": {},
   "outputs": [
    {
     "data": {
      "text/plain": [
       "'isalpha() function will check is the given string is only of numerical/numbers and it will give ouput as \\ntrue if only the strings are numerical/numbers'"
      ]
     },
     "execution_count": 18,
     "metadata": {},
     "output_type": "execute_result"
    }
   ],
   "source": [
    "#6.Write a diference between isalnum() and isalpha()\n",
    "'''isalnum() function will check for either the given string is of alphabets or numbers and it will\n",
    "give output as True if only combination of numerical and alphabets or only numerical/alphabets are present in the string'''\n",
    "'''isalpha() function will check is the given string is only of numerical/numbers and it will give ouput as \n",
    "true if only the strings are numerical/numbers'''"
   ]
  },
  {
   "cell_type": "code",
   "execution_count": 36,
   "id": "dcb309aa",
   "metadata": {},
   "outputs": [
    {
     "data": {
      "text/plain": [
       "'Naren\\\\CAE\\\\Crash'"
      ]
     },
     "execution_count": 36,
     "metadata": {},
     "output_type": "execute_result"
    }
   ],
   "source": [
    "#7.Try to give an example of expand tab\n",
    "a=\"Naren\\CAE\\Crash\"\n",
    "a.expandtabs()"
   ]
  },
  {
   "cell_type": "code",
   "execution_count": 38,
   "id": "1b84203d",
   "metadata": {},
   "outputs": [
    {
     "data": {
      "text/plain": [
       "'Naren'"
      ]
     },
     "execution_count": 38,
     "metadata": {},
     "output_type": "execute_result"
    }
   ],
   "source": [
    "#8. Give an example of strip , lstrip and rstrip\n",
    "z=\"    Naren   \"\n",
    "x='    Naren   '\n",
    "c='    Naren   '\n",
    "z.strip()\n",
    "#strip() removes empty space in right and left end of string(does not remove spaces in centre)"
   ]
  },
  {
   "cell_type": "code",
   "execution_count": 39,
   "id": "6160be00",
   "metadata": {},
   "outputs": [
    {
     "data": {
      "text/plain": [
       "'Naren   '"
      ]
     },
     "execution_count": 39,
     "metadata": {},
     "output_type": "execute_result"
    }
   ],
   "source": [
    "x.lstrip()\n",
    "##lstrip() removes empty space in left end of string"
   ]
  },
  {
   "cell_type": "code",
   "execution_count": 40,
   "id": "df935803",
   "metadata": {},
   "outputs": [
    {
     "data": {
      "text/plain": [
       "'    Naren'"
      ]
     },
     "execution_count": 40,
     "metadata": {},
     "output_type": "execute_result"
    }
   ],
   "source": [
    "c.rstrip()\n",
    "#rstrip() removes empty space in right end of string"
   ]
  },
  {
   "cell_type": "code",
   "execution_count": 41,
   "id": "eb58f142",
   "metadata": {},
   "outputs": [
    {
     "data": {
      "text/plain": [
       "'Naren is DATA SCIENCE Engineer'"
      ]
     },
     "execution_count": 41,
     "metadata": {},
     "output_type": "execute_result"
    }
   ],
   "source": [
    "#9.Replace a string charecter by another charector by taking your own example\n",
    "v=\"Naren is CAE Engineer\"\n",
    "v.replace('CAE','DATA SCIENCE')"
   ]
  },
  {
   "cell_type": "code",
   "execution_count": 47,
   "id": "8b0e8941",
   "metadata": {},
   "outputs": [
    {
     "data": {
      "text/plain": [
       "'************Naren*************'"
      ]
     },
     "execution_count": 47,
     "metadata": {},
     "output_type": "execute_result"
    }
   ],
   "source": [
    "#10.Try  to give a defination of string center function with an exmple\n",
    "n=\"Naren\"\n",
    "n.center(30,\"*\")\n",
    "'''for centre function we have to provide 2 input N0.of space and string to fill those value.\n",
    "it will print those specified string + given string and given string will be at centre,\n",
    "if the input string length and specified len in centre fuction is same, just the input string will be printed'''"
   ]
  },
  {
   "cell_type": "code",
   "execution_count": 48,
   "id": "4c92dcc7",
   "metadata": {},
   "outputs": [
    {
     "data": {
      "text/plain": [
       "'Interpretor is a computer program that converts program into machine language, it executes program line\\nby line'"
      ]
     },
     "execution_count": 48,
     "metadata": {},
     "output_type": "execute_result"
    }
   ],
   "source": [
    "#11.Write your own definition of compiler and interpretor without copy paste form internet in your own\n",
    "'''Compiler converts program to machine code and the program gets executed only after entire program is\n",
    "error free and it executes program faster than intrepter and so it takes up some storage space as well'''\n",
    "'''Interpretor is a computer program that converts program into machine language, it executes program line\n",
    "by line'''"
   ]
  },
  {
   "cell_type": "code",
   "execution_count": null,
   "id": "995357ce",
   "metadata": {},
   "outputs": [],
   "source": [
    "#13.Try to write a usecase of python with your understanding\n",
    "Automation scripts - scripting\n",
    "web development\n",
    "app development\n",
    "data science"
   ]
  }
 ],
 "metadata": {
  "kernelspec": {
   "display_name": "Python 3 (ipykernel)",
   "language": "python",
   "name": "python3"
  },
  "language_info": {
   "codemirror_mode": {
    "name": "ipython",
    "version": 3
   },
   "file_extension": ".py",
   "mimetype": "text/x-python",
   "name": "python",
   "nbconvert_exporter": "python",
   "pygments_lexer": "ipython3",
   "version": "3.9.7"
  }
 },
 "nbformat": 4,
 "nbformat_minor": 5
}
